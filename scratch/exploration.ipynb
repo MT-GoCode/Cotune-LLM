{
 "cells": [
  {
   "cell_type": "code",
   "execution_count": 1,
   "metadata": {},
   "outputs": [],
   "source": [
    "import pandas as pd\n",
    "\n",
    "test_ads = pd.read_csv('test/test_data_ads.csv')\n",
    "test_feeds = pd.read_csv('test/test_data_feeds.csv')\n",
    "train_ads = pd.read_csv('train/train_data_ads.csv')\n",
    "train_feeds = pd.read_csv('train/train_data_feeds.csv')"
   ]
  },
  {
   "cell_type": "code",
   "execution_count": 2,
   "metadata": {},
   "outputs": [],
   "source": [
    "list_type_columns = {\n",
    "    \"ad_click_list_v001\": [],\n",
    "    \"ad_click_list_v002\": [],\n",
    "    \"ad_click_list_v003\": [],\n",
    "    \"ad_close_list_v001\": [],\n",
    "    \"ad_close_list_v002\": [],\n",
    "    \"ad_close_list_v003\": [],\n",
    "    \"hispace_app_tags\": [],\n",
    "    \"u_newsCatInterests\": [],\n",
    "    \"u_newsCatDislike\": [],\n",
    "    \"u_newsCatInterestsST\": [],\n",
    "    \"u_click_ca2_news\": [],\n",
    "    \"i_entities\": []\n",
    "}\n"
   ]
  },
  {
   "cell_type": "code",
   "execution_count": 6,
   "metadata": {},
   "outputs": [
    {
     "name": "stdout",
     "output_type": "stream",
     "text": [
      "train_ads\n",
      "train_feeds\n",
      "test_ads\n",
      "test_feeds\n"
     ]
    },
    {
     "ename": "",
     "evalue": "",
     "output_type": "error",
     "traceback": [
      "\u001b[1;31mThe Kernel crashed while executing code in the current cell or a previous cell. \n",
      "\u001b[1;31mPlease review the code in the cell(s) to identify a possible cause of the failure. \n",
      "\u001b[1;31mClick <a href='https://aka.ms/vscodeJupyterKernelCrash'>here</a> for more info. \n",
      "\u001b[1;31mView Jupyter <a href='command:jupyter.viewOutput'>log</a> for further details."
     ]
    }
   ],
   "source": [
    "_ = {'train_ads': train_ads,\n",
    "     'train_feeds': train_feeds,\n",
    "     'test_ads': test_ads,\n",
    "     'test_feeds': test_feeds}\n",
    "for key in _:\n",
    "\n",
    "    print(key)\n",
    "    df = _[key]\n",
    "    file = open(f\"{key}_unique_analysis.txt\", 'w')\n",
    "    file.write(f\"total {key} length: {len(df)}\\n\")\n",
    "    for c in df.columns:\n",
    "        if c in list_type_columns:\n",
    "            ppp = len(set.union(*df[c].apply(lambda x: set(str(x).split('^')))))\n",
    "            file.write(f\"{c} LIST TYPE unique: {ppp}\\n\")      \n",
    "        else:\n",
    "            file.write(f\"{c} unique: {len(df[c].unique())}\\n\")\n",
    "\n",
    "    file.close()"
   ]
  },
  {
   "cell_type": "code",
   "execution_count": null,
   "metadata": {},
   "outputs": [],
   "source": []
  }
 ],
 "metadata": {
  "kernelspec": {
   "display_name": "base",
   "language": "python",
   "name": "python3"
  },
  "language_info": {
   "codemirror_mode": {
    "name": "ipython",
    "version": 3
   },
   "file_extension": ".py",
   "mimetype": "text/x-python",
   "name": "python",
   "nbconvert_exporter": "python",
   "pygments_lexer": "ipython3",
   "version": "3.10.9"
  }
 },
 "nbformat": 4,
 "nbformat_minor": 2
}
